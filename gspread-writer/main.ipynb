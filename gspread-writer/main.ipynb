{
 "cells": [
  {
   "cell_type": "code",
   "execution_count": 1,
   "metadata": {},
   "outputs": [],
   "source": [
    "from src import lambda_function, secrets_helper"
   ]
  },
  {
   "cell_type": "code",
   "execution_count": 2,
   "metadata": {},
   "outputs": [],
   "source": [
    "import os\n",
    "os.environ['SECRETS_NAME'] = 'warikan-san-gspread-writer-secrets'\n",
    "# secrets = secrets_helper.get_secret_dict('warikan-san-gspread-writer-secrets')"
   ]
  },
  {
   "cell_type": "code",
   "execution_count": 3,
   "metadata": {},
   "outputs": [
    {
     "name": "stdout",
     "output_type": "stream",
     "text": [
      "<class 'pandas.core.frame.DataFrame'>\n",
      "RangeIndex: 2 entries, 0 to 1\n",
      "Data columns (total 4 columns):\n",
      " #   Column  Non-Null Count  Dtype \n",
      "---  ------  --------------  ----- \n",
      " 0   金額      2 non-null      int64 \n",
      " 1   日付      2 non-null      object\n",
      " 2   支払い者    2 non-null      object\n",
      " 3   品目      2 non-null      object\n",
      "dtypes: int64(1), object(3)\n",
      "memory usage: 196.0+ bytes\n"
     ]
    }
   ],
   "source": [
    "import pandas as pd\n",
    "    \n",
    "input_df = pd.read_csv('./input_format.csv')\n",
    "input_df.info()"
   ]
  },
  {
   "cell_type": "code",
   "execution_count": 4,
   "metadata": {},
   "outputs": [],
   "source": [
    "import logging\n",
    "import sys\n",
    "# ロギングの設定\n",
    "logging.basicConfig(stream=sys.stdout, level=logging.INFO)"
   ]
  },
  {
   "cell_type": "code",
   "execution_count": 5,
   "metadata": {},
   "outputs": [
    {
     "name": "stdout",
     "output_type": "stream",
     "text": [
      "INFO:src.lambda_function:appending dataframe to gspread...\n",
      "INFO:src.lambda_function:trying to get service account from secret manager...\n",
      "INFO:src.lambda_function:connected to <Worksheet 'マスタ' id:0>\n",
      "INFO:src.lambda_function:existing_df: <bound method DataFrame.info of       ID      金額         日付 支払い者          品目   マサミク     清算  まさ比率  まな比率  \\\n",
      "0     35  ¥2,920  2021年4月1日   まな    印鑑(マサミク)   TRUE   TRUE     1     0   \n",
      "1      2  ¥1,381  2021年4月2日   まさ     セブンでお菓子  FALSE   TRUE    11     8   \n",
      "2      9  ¥1,391  2021年4月2日   まな          食材  FALSE   TRUE    11     8   \n",
      "3      1  ¥2,590  2021年4月3日   まさ          ピザ  FALSE   TRUE    11     8   \n",
      "4      3  ¥3,635  2021年4月5日   まさ     ハナマサプラス  FALSE   TRUE    11     8   \n",
      "..   ...     ...        ...  ...         ...    ...    ...   ...   ...   \n",
      "698  743    1490  2023/8/26   まさ    テストガジェット  FALSE  FALSE     2     1   \n",
      "699  745    1490  2023/8/26   まさ    テストガジェット  FALSE  FALSE     2     1   \n",
      "700  747    1490  2023/8/26   まさ    テストガジェット  FALSE  FALSE     2     1   \n",
      "701  749    1490  2023/8/26   まさ    テストガジェット  FALSE  FALSE     2     1   \n",
      "702  750     489  2023/8/25   まさ  テストドラッグストア  FALSE  FALSE     2     1   \n",
      "\n",
      "      まさ負担額   まな負担額   清算済み    重複？  \n",
      "0    ¥2,920      ¥0   TRUE         \n",
      "1      ¥800    ¥581   TRUE         \n",
      "2      ¥805    ¥586   TRUE         \n",
      "3    ¥1,499  ¥1,091   TRUE         \n",
      "4    ¥2,104  ¥1,531   TRUE         \n",
      "..      ...     ...    ...    ...  \n",
      "698   993.0    ¥497  FALSE  FALSE  \n",
      "699   993.0    ¥497  FALSE  FALSE  \n",
      "700   993.0    ¥497  FALSE  FALSE  \n",
      "701   993.0    ¥497  FALSE  FALSE  \n",
      "702   326.0    ¥163  FALSE  FALSE  \n",
      "\n",
      "[703 rows x 13 columns]>\n",
      "INFO:src.lambda_function:transforming dataframe to output...\n",
      "     金額         日付 支払い者          品目\n",
      "0  1490  2023/8/26   まさ    テストガジェット\n",
      "1   489  2023/8/25   まさ  テストドラッグストア\n",
      "     金額         日付 支払い者          品目   ID\n",
      "0  1490  2023/8/26   まさ    テストガジェット  751\n",
      "1   489  2023/8/25   まさ  テストドラッグストア  752\n",
      "     金額         日付 支払い者          品目   ID   マサミク     清算  まさ比率  まな比率   清算済み  \\\n",
      "0  1490  2023/8/26   まさ    テストガジェット  751  False  False     2     1  False   \n",
      "1   489  2023/8/25   まさ  テストドラッグストア  752  False  False     2     1  False   \n",
      "\n",
      "     重複？  \n",
      "0  False  \n",
      "1  False  \n",
      "INFO:src.lambda_function:finding the range to be updated...\n",
      "INFO:src.lambda_function:updating range A704:M705...\n"
     ]
    }
   ],
   "source": [
    "lambda_function.append_df_to_gspread(input_df)"
   ]
  },
  {
   "cell_type": "code",
   "execution_count": null,
   "metadata": {},
   "outputs": [],
   "source": []
  }
 ],
 "metadata": {
  "kernelspec": {
   "display_name": ".venv",
   "language": "python",
   "name": "python3"
  },
  "language_info": {
   "codemirror_mode": {
    "name": "ipython",
    "version": 3
   },
   "file_extension": ".py",
   "mimetype": "text/x-python",
   "name": "python",
   "nbconvert_exporter": "python",
   "pygments_lexer": "ipython3",
   "version": "3.11.5"
  },
  "orig_nbformat": 4
 },
 "nbformat": 4,
 "nbformat_minor": 2
}
