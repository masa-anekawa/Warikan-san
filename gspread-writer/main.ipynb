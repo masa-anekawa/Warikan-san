{
 "cells": [
  {
   "cell_type": "code",
   "execution_count": 1,
   "metadata": {},
   "outputs": [],
   "source": [
    "import lambda_function"
   ]
  },
  {
   "cell_type": "code",
   "execution_count": 2,
   "metadata": {},
   "outputs": [
    {
     "name": "stdout",
     "output_type": "stream",
     "text": [
      "<class 'pandas.core.frame.DataFrame'>\n",
      "RangeIndex: 2 entries, 0 to 1\n",
      "Data columns (total 4 columns):\n",
      " #   Column  Non-Null Count  Dtype \n",
      "---  ------  --------------  ----- \n",
      " 0   金額      2 non-null      int64 \n",
      " 1   日付      2 non-null      object\n",
      " 2   支払い者    2 non-null      object\n",
      " 3   品目      2 non-null      object\n",
      "dtypes: int64(1), object(3)\n",
      "memory usage: 196.0+ bytes\n"
     ]
    }
   ],
   "source": [
    "import pandas as pd\n",
    "    \n",
    "input_df = pd.read_csv('./input_format.csv')\n",
    "input_df.info()"
   ]
  },
  {
   "cell_type": "code",
   "execution_count": 3,
   "metadata": {},
   "outputs": [],
   "source": [
    "import logging\n",
    "import sys\n",
    "# ロギングの設定\n",
    "logging.basicConfig(stream=sys.stdout, level=logging.INFO)"
   ]
  },
  {
   "cell_type": "code",
   "execution_count": 4,
   "metadata": {},
   "outputs": [
    {
     "name": "stdout",
     "output_type": "stream",
     "text": [
      "INFO:lambda_function:appending dataframe to gspread...\n",
      "INFO:lambda_function:connected to <Worksheet 'マスタ' id:0>\n",
      "INFO:lambda_function:existing_df: <bound method DataFrame.info of       ID      金額           日付 支払い者  \\\n",
      "0     35  ¥2,920    2021年4月1日   まな   \n",
      "1      2  ¥1,381    2021年4月2日   まさ   \n",
      "2      9  ¥1,391    2021年4月2日   まな   \n",
      "3      1  ¥2,590    2021年4月3日   まさ   \n",
      "4      3  ¥3,635    2021年4月5日   まさ   \n",
      "..   ...     ...          ...  ...   \n",
      "696  738    3244    2023年3月6日   まさ   \n",
      "697  741    1980  2022年12月26日   まさ   \n",
      "698  742    1980   2023年1月26日   まさ   \n",
      "699  744    1490    2023/8/26   まさ   \n",
      "700  745     489    2023/8/25   まさ   \n",
      "\n",
      "                                                    品目   マサミク     清算  まさ比率  \\\n",
      "0                                             印鑑(マサミク)   TRUE   TRUE     1   \n",
      "1                                              セブンでお菓子  FALSE   TRUE    11   \n",
      "2                                                   食材  FALSE   TRUE    11   \n",
      "3                                                   ピザ  FALSE   TRUE    11   \n",
      "4                                              ハナマサプラス  FALSE   TRUE    11   \n",
      "..                                                 ...    ...    ...   ...   \n",
      "696  ミルふわ ベビーミルキーローション ポンプタイプ 300mL (811円 * 4点) 販売:...  FALSE  FALSE     2   \n",
      "697                                          Apple One  FALSE  FALSE     2   \n",
      "698                                          Apple One  FALSE  FALSE     2   \n",
      "699                                           テストガジェット  FALSE  FALSE     2   \n",
      "700                                         テストドラッグストア  FALSE  FALSE     2   \n",
      "\n",
      "     まな比率    まさ負担額   まな負担額   清算済み    重複？  \n",
      "0       0   ¥2,920      ¥0   TRUE         \n",
      "1       8     ¥800    ¥581   TRUE         \n",
      "2       8     ¥805    ¥586   TRUE         \n",
      "3       8   ¥1,499  ¥1,091   TRUE         \n",
      "4       8   ¥2,104  ¥1,531   TRUE         \n",
      "..    ...      ...     ...    ...    ...  \n",
      "696     1  2162.67  ¥1,081  FALSE  FALSE  \n",
      "697     1   1320.0    ¥660  FALSE  FALSE  \n",
      "698     1   1320.0    ¥660  FALSE  FALSE  \n",
      "699     1    993.0    ¥497  FALSE  FALSE  \n",
      "700     1    326.0    ¥163  FALSE  FALSE  \n",
      "\n",
      "[701 rows x 13 columns]>\n",
      "INFO:lambda_function:transforming dataframe to output...\n",
      "     金額         日付 支払い者          品目\n",
      "0  1490  2023/8/26   まさ    テストガジェット\n",
      "1   489  2023/8/25   まさ  テストドラッグストア\n",
      "     金額         日付 支払い者          品目   ID\n",
      "0  1490  2023/8/26   まさ    テストガジェット  746\n",
      "1   489  2023/8/25   まさ  テストドラッグストア  747\n",
      "     金額         日付 支払い者          品目   ID   マサミク     清算  まさ比率  まな比率   清算済み  \\\n",
      "0  1490  2023/8/26   まさ    テストガジェット  746  False  False     2     1  False   \n",
      "1   489  2023/8/25   まさ  テストドラッグストア  747  False  False     2     1  False   \n",
      "\n",
      "     重複？  \n",
      "0  False  \n",
      "1  False  \n",
      "INFO:lambda_function:finding the range to be updated...\n",
      "INFO:lambda_function:updating range A702:M703...\n"
     ]
    }
   ],
   "source": [
    "lambda_function.append_df_to_gspread(input_df)"
   ]
  },
  {
   "cell_type": "code",
   "execution_count": null,
   "metadata": {},
   "outputs": [],
   "source": []
  }
 ],
 "metadata": {
  "kernelspec": {
   "display_name": ".venv",
   "language": "python",
   "name": "python3"
  },
  "language_info": {
   "codemirror_mode": {
    "name": "ipython",
    "version": 3
   },
   "file_extension": ".py",
   "mimetype": "text/x-python",
   "name": "python",
   "nbconvert_exporter": "python",
   "pygments_lexer": "ipython3",
   "version": "3.11.4"
  },
  "orig_nbformat": 4
 },
 "nbformat": 4,
 "nbformat_minor": 2
}
