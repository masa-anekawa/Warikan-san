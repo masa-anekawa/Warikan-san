{
 "cells": [
  {
   "cell_type": "code",
   "execution_count": 1,
   "metadata": {},
   "outputs": [],
   "source": [
    "from src import main_training\n",
    "from src import main_inference"
   ]
  },
  {
   "cell_type": "code",
   "execution_count": 2,
   "metadata": {},
   "outputs": [
    {
     "name": "stdout",
     "output_type": "stream",
     "text": [
      "<class 'pandas.core.frame.DataFrame'>\n",
      "RangeIndex: 1305 entries, 0 to 1304\n",
      "Columns: 1000 entries, 内容_tfidf_0 to 内容_tfidf_999\n",
      "dtypes: float64(1000)\n",
      "memory usage: 10.0 MB\n",
      "<class 'pandas.core.frame.DataFrame'>\n",
      "RangeIndex: 1305 entries, 0 to 1304\n",
      "Columns: 1006 entries, 内容 to 内容_tfidf_999\n",
      "dtypes: float64(1000), int64(2), object(4)\n",
      "memory usage: 10.0+ MB\n"
     ]
    },
    {
     "name": "stderr",
     "output_type": "stream",
     "text": [
      "/Users/anek/PersonalProjects/Warikan-san/warikan-detector/.venv/lib/python3.11/site-packages/xgboost/sklearn.py:1395: UserWarning: `use_label_encoder` is deprecated in 1.7.0.\n",
      "  warnings.warn(\"`use_label_encoder` is deprecated in 1.7.0.\")\n"
     ]
    }
   ],
   "source": [
    "main_training.train_on_all_files_in_folder(\"TrainData\", model_save_path=\"models/xgboost_model.pkl\")"
   ]
  },
  {
   "cell_type": "code",
   "execution_count": 3,
   "metadata": {},
   "outputs": [
    {
     "name": "stderr",
     "output_type": "stream",
     "text": [
      "12 label(s) encoded in 3018 columns\n",
      "12 label(s) encoded in 3018 columns\n"
     ]
    },
    {
     "name": "stdout",
     "output_type": "stream",
     "text": [
      "<class 'pandas.core.frame.DataFrame'>\n",
      "RangeIndex: 75 entries, 0 to 74\n",
      "Columns: 1000 entries, 内容_tfidf_0 to 内容_tfidf_999\n",
      "dtypes: float64(1000)\n",
      "memory usage: 586.1 KB\n",
      "<class 'pandas.core.frame.DataFrame'>\n",
      "RangeIndex: 75 entries, 0 to 74\n",
      "Columns: 1006 entries, 内容 to 内容_tfidf_999\n",
      "dtypes: float64(1000), int64(2), object(4)\n",
      "memory usage: 589.6+ KB\n"
     ]
    }
   ],
   "source": [
    "main_inference.process_csv_file_for_inference(\"TestData/2023-09-01_2023-09-30.csv\", \"PredictedData/predicted-2023-09-01_2023-09-30.csv\", model_save_path=\"models/xgboost_model.pkl\")"
   ]
  },
  {
   "cell_type": "code",
   "execution_count": null,
   "metadata": {},
   "outputs": [],
   "source": []
  }
 ],
 "metadata": {
  "kernelspec": {
   "display_name": ".venv",
   "language": "python",
   "name": "python3"
  },
  "language_info": {
   "codemirror_mode": {
    "name": "ipython",
    "version": 3
   },
   "file_extension": ".py",
   "mimetype": "text/x-python",
   "name": "python",
   "nbconvert_exporter": "python",
   "pygments_lexer": "ipython3",
   "version": "3.11.5"
  },
  "orig_nbformat": 4
 },
 "nbformat": 4,
 "nbformat_minor": 2
}
